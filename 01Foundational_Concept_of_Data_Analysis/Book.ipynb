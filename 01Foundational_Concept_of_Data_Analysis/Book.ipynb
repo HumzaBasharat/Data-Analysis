{
 "cells": [
  {
   "cell_type": "code",
   "execution_count": 18,
   "metadata": {},
   "outputs": [],
   "source": [
    "import time\n",
    "data = [4, 5, 6, 6, 7, 8, 8, 8, 9, 10]\n"
   ]
  },
  {
   "cell_type": "markdown",
   "metadata": {},
   "source": []
  },
  {
   "cell_type": "markdown",
   "metadata": {},
   "source": [
    "## Mean"
   ]
  },
  {
   "cell_type": "code",
   "execution_count": 1,
   "metadata": {},
   "outputs": [
    {
     "ename": "NameError",
     "evalue": "name 'data' is not defined",
     "output_type": "error",
     "traceback": [
      "\u001b[1;31m---------------------------------------------------------------------------\u001b[0m",
      "\u001b[1;31mNameError\u001b[0m                                 Traceback (most recent call last)",
      "Cell \u001b[1;32mIn[1], line 1\u001b[0m\n\u001b[1;32m----> 1\u001b[0m mean \u001b[38;5;241m=\u001b[39m \u001b[38;5;28msum\u001b[39m(data) \u001b[38;5;241m/\u001b[39m \u001b[38;5;28mlen\u001b[39m(data)\n",
      "\u001b[1;31mNameError\u001b[0m: name 'data' is not defined"
     ]
    }
   ],
   "source": [
    "mean = sum(data) / len(data)"
   ]
  },
  {
   "cell_type": "code",
   "execution_count": 4,
   "metadata": {},
   "outputs": [
    {
     "name": "stdout",
     "output_type": "stream",
     "text": [
      "Mean 7.1\n"
     ]
    }
   ],
   "source": [
    "print(\"Mean\", mean)"
   ]
  },
  {
   "cell_type": "markdown",
   "metadata": {},
   "source": [
    "## Median"
   ]
  },
  {
   "cell_type": "code",
   "execution_count": 36,
   "metadata": {},
   "outputs": [
    {
     "name": "stdout",
     "output_type": "stream",
     "text": [
      "Median 7.5\n",
      "Execution time: 0.0009634494781494141 seconds\n",
      "Median: 7.5\n",
      "Execution time: 0.00030422210693359375 seconds\n"
     ]
    }
   ],
   "source": [
    "start_time = time.time()\n",
    "# Sort the data in ascending order\n",
    "sorted_data = sorted(data)\n",
    "# Find the length of the sorted list\n",
    "length_of_data = len(data)\n",
    "# Check if the length is odd\n",
    "if length_of_data % 2 == 1:\n",
    "    # If odd, the median is the middle element(for this use sorted data only)\n",
    "    odd = length_of_data / 2\n",
    "    median = int(odd)\n",
    "    print(data[median])\n",
    "else:\n",
    "    # If even, the median is the average of the two middle elements(for this use sorted data only)\n",
    "    even = length_of_data / 2\n",
    "    first = int(even - 1)\n",
    "    secound = int(even)\n",
    "    median = (sorted_data[first] + sorted_data[secound])/2\n",
    "    print(\"Median\",median)\n",
    "\n",
    "\n",
    "# Print the median value\n",
    "\n",
    "end_time = time.time()\n",
    "\n",
    "# Calculate the elapsed time\n",
    "execution_time = end_time - start_time\n",
    "print(\"Execution time:\", execution_time, \"seconds\")\n",
    "\n",
    "\n",
    "start_time = time.time()\n",
    "sorted_data = sorted(data)\n",
    "n = len(sorted_data)\n",
    "if n % 2 == 1:\n",
    "    median = sorted_data[n // 2]\n",
    "else:\n",
    "    median = (sorted_data[n // 2 - 1] + sorted_data[n // 2]) / 2\n",
    "print(\"Median:\", median)\n",
    "\n",
    "end_time = time.time()\n",
    "\n",
    "# Calculate the elapsed time\n",
    "execution_time = end_time - start_time\n",
    "print(\"Execution time:\", execution_time, \"seconds\")"
   ]
  },
  {
   "cell_type": "code",
   "execution_count": 23,
   "metadata": {},
   "outputs": [
    {
     "name": "stdout",
     "output_type": "stream",
     "text": [
      "Median: 7.5\n",
      "Execution time: 0.00028824806213378906 seconds\n"
     ]
    }
   ],
   "source": [
    "start_time = time.time()\n",
    "sorted_data = sorted(data)\n",
    "n = len(sorted_data)\n",
    "if n % 2 == 1:\n",
    "    median = sorted_data[n // 2]\n",
    "else:\n",
    "    median = (sorted_data[n // 2 - 1] + sorted_data[n // 2]) / 2\n",
    "print(\"Median:\", median)\n",
    "\n",
    "end_time = time.time()\n",
    "\n",
    "# Calculate the elapsed time\n",
    "execution_time = end_time - start_time\n",
    "print(\"Execution time:\", execution_time, \"seconds\")"
   ]
  },
  {
   "cell_type": "markdown",
   "metadata": {},
   "source": [
    "### Best Solution"
   ]
  },
  {
   "cell_type": "code",
   "execution_count": 37,
   "metadata": {},
   "outputs": [
    {
     "name": "stdout",
     "output_type": "stream",
     "text": [
      "Median: 7.5\n"
     ]
    }
   ],
   "source": [
    "sorted_data = sorted(data)\n",
    "n = len(sorted_data)\n",
    "if n % 2 == 1:\n",
    "    median = sorted_data[n // 2]\n",
    "else:\n",
    "    median = (sorted_data[n // 2 - 1] + sorted_data[n // 2]) / 2\n",
    "print(\"Median:\", median)"
   ]
  },
  {
   "cell_type": "code",
   "execution_count": 4,
   "metadata": {},
   "outputs": [
    {
     "data": {
      "text/plain": [
       "0    7.5\n",
       "dtype: float64"
      ]
     },
     "execution_count": 4,
     "metadata": {},
     "output_type": "execute_result"
    }
   ],
   "source": [
    "import pandas as pd \n",
    "\n",
    "df = pd.DataFrame(data)\n",
    "\n",
    "median = df.median()\n",
    "median"
   ]
  },
  {
   "cell_type": "code",
   "execution_count": 8,
   "metadata": {},
   "outputs": [
    {
     "ename": "AttributeError",
     "evalue": "module 'pandas' has no attribute 'median'",
     "output_type": "error",
     "traceback": [
      "\u001b[1;31m---------------------------------------------------------------------------\u001b[0m",
      "\u001b[1;31mAttributeError\u001b[0m                            Traceback (most recent call last)",
      "Cell \u001b[1;32mIn[8], line 5\u001b[0m\n\u001b[0;32m      1\u001b[0m \u001b[38;5;28;01mimport\u001b[39;00m \u001b[38;5;21;01mpandas\u001b[39;00m \u001b[38;5;28;01mas\u001b[39;00m \u001b[38;5;21;01mpd\u001b[39;00m \n\u001b[1;32m----> 5\u001b[0m median \u001b[38;5;241m=\u001b[39m \u001b[43mpd\u001b[49m\u001b[38;5;241;43m.\u001b[39;49m\u001b[43mmedian\u001b[49m(data)\n\u001b[0;32m      6\u001b[0m median\n",
      "\u001b[1;31mAttributeError\u001b[0m: module 'pandas' has no attribute 'median'"
     ]
    }
   ],
   "source": [
    "import pandas as pd \n",
    "\n",
    "\n",
    "\n",
    "median = pd.median(data)\n",
    "median"
   ]
  },
  {
   "cell_type": "markdown",
   "metadata": {},
   "source": [
    "## Mode"
   ]
  },
  {
   "cell_type": "code",
   "execution_count": 2,
   "metadata": {},
   "outputs": [],
   "source": [
    "# python for loop\n",
    "\n",
    "loo = [1,2,3,4]"
   ]
  },
  {
   "cell_type": "code",
   "execution_count": 3,
   "metadata": {},
   "outputs": [
    {
     "data": {
      "text/plain": [
       "[1, 2, 3, 4]"
      ]
     },
     "execution_count": 3,
     "metadata": {},
     "output_type": "execute_result"
    }
   ],
   "source": [
    "loo"
   ]
  },
  {
   "cell_type": "code",
   "execution_count": 16,
   "metadata": {},
   "outputs": [
    {
     "name": "stdout",
     "output_type": "stream",
     "text": [
      "1\n",
      "2\n",
      "3\n",
      "4\n"
     ]
    }
   ],
   "source": [
    "for item in loo:\n",
    "    print(item)"
   ]
  },
  {
   "cell_type": "code",
   "execution_count": null,
   "metadata": {},
   "outputs": [
    {
     "name": "stdout",
     "output_type": "stream",
     "text": [
      "4\n",
      "5\n",
      "6\n",
      "6\n",
      "7\n",
      "8\n",
      "8\n",
      "8\n",
      "9\n",
      "10\n",
      "4\n",
      "5\n",
      "6\n",
      "6\n",
      "7\n",
      "8\n",
      "8\n",
      "8\n",
      "9\n",
      "10\n",
      "4\n",
      "5\n",
      "6\n",
      "6\n",
      "7\n",
      "8\n",
      "8\n",
      "8\n",
      "9\n",
      "10\n",
      "4\n",
      "5\n",
      "6\n",
      "6\n",
      "7\n",
      "8\n",
      "8\n",
      "8\n",
      "9\n",
      "10\n",
      "4\n",
      "5\n",
      "6\n",
      "6\n",
      "7\n",
      "8\n",
      "8\n",
      "8\n",
      "9\n",
      "10\n",
      "4\n",
      "5\n",
      "6\n",
      "6\n",
      "7\n",
      "8\n",
      "8\n",
      "8\n",
      "9\n",
      "10\n",
      "4\n",
      "5\n",
      "6\n",
      "6\n",
      "7\n",
      "8\n",
      "8\n",
      "8\n",
      "9\n",
      "10\n",
      "4\n",
      "5\n",
      "6\n",
      "6\n",
      "7\n",
      "8\n",
      "8\n",
      "8\n",
      "9\n",
      "10\n",
      "4\n",
      "5\n",
      "6\n",
      "6\n",
      "7\n",
      "8\n",
      "8\n",
      "8\n",
      "9\n",
      "10\n",
      "4\n",
      "5\n",
      "6\n",
      "6\n",
      "7\n",
      "8\n",
      "8\n",
      "8\n",
      "9\n",
      "10\n",
      "Mode: 8\n"
     ]
    }
   ],
   "source": [
    "mode = None\n",
    "max_count = 0\n",
    "\n",
    "# Outer loop to iterate through each item in the data\n",
    "for item in data:\n",
    "    count = 0\n",
    "    \n",
    "    # Inner loop to count occurrences of the current item\n",
    "    for x in data:\n",
    "        if x == item:\n",
    "            count += 1\n",
    "    \n",
    "    # Update mode if the current item's count is greater than max_count\n",
    "    if count > max_count:\n",
    "        max_count = count\n",
    "        mode = item\n",
    "\n",
    "print(\"Mode:\", mode)\n"
   ]
  },
  {
   "cell_type": "code",
   "execution_count": 26,
   "metadata": {},
   "outputs": [
    {
     "name": "stdout",
     "output_type": "stream",
     "text": [
      "Checking item: 4\n",
      "  Comparing 4 with 4, current count: 1\n",
      "  Comparing 5 with 4, current count: 1\n",
      "  Comparing 6 with 4, current count: 1\n",
      "  Comparing 6 with 4, current count: 1\n",
      "  Comparing 7 with 4, current count: 1\n",
      "  Comparing 8 with 4, current count: 1\n",
      "  Comparing 8 with 4, current count: 1\n",
      "  Comparing 8 with 4, current count: 1\n",
      "  Comparing 9 with 4, current count: 1\n",
      "  Comparing 10 with 4, current count: 1\n",
      "  New mode found: 4 with count: 1\n",
      "Checking item: 5\n",
      "  Comparing 4 with 5, current count: 0\n",
      "  Comparing 5 with 5, current count: 1\n",
      "  Comparing 6 with 5, current count: 1\n",
      "  Comparing 6 with 5, current count: 1\n",
      "  Comparing 7 with 5, current count: 1\n",
      "  Comparing 8 with 5, current count: 1\n",
      "  Comparing 8 with 5, current count: 1\n",
      "  Comparing 8 with 5, current count: 1\n",
      "  Comparing 9 with 5, current count: 1\n",
      "  Comparing 10 with 5, current count: 1\n",
      "Checking item: 6\n",
      "  Comparing 4 with 6, current count: 0\n",
      "  Comparing 5 with 6, current count: 0\n",
      "  Comparing 6 with 6, current count: 1\n",
      "  Comparing 6 with 6, current count: 2\n",
      "  Comparing 7 with 6, current count: 2\n",
      "  Comparing 8 with 6, current count: 2\n",
      "  Comparing 8 with 6, current count: 2\n",
      "  Comparing 8 with 6, current count: 2\n",
      "  Comparing 9 with 6, current count: 2\n",
      "  Comparing 10 with 6, current count: 2\n",
      "  New mode found: 6 with count: 2\n",
      "Checking item: 6\n",
      "  Comparing 4 with 6, current count: 0\n",
      "  Comparing 5 with 6, current count: 0\n",
      "  Comparing 6 with 6, current count: 1\n",
      "  Comparing 6 with 6, current count: 2\n",
      "  Comparing 7 with 6, current count: 2\n",
      "  Comparing 8 with 6, current count: 2\n",
      "  Comparing 8 with 6, current count: 2\n",
      "  Comparing 8 with 6, current count: 2\n",
      "  Comparing 9 with 6, current count: 2\n",
      "  Comparing 10 with 6, current count: 2\n",
      "Checking item: 7\n",
      "  Comparing 4 with 7, current count: 0\n",
      "  Comparing 5 with 7, current count: 0\n",
      "  Comparing 6 with 7, current count: 0\n",
      "  Comparing 6 with 7, current count: 0\n",
      "  Comparing 7 with 7, current count: 1\n",
      "  Comparing 8 with 7, current count: 1\n",
      "  Comparing 8 with 7, current count: 1\n",
      "  Comparing 8 with 7, current count: 1\n",
      "  Comparing 9 with 7, current count: 1\n",
      "  Comparing 10 with 7, current count: 1\n",
      "Checking item: 8\n",
      "  Comparing 4 with 8, current count: 0\n",
      "  Comparing 5 with 8, current count: 0\n",
      "  Comparing 6 with 8, current count: 0\n",
      "  Comparing 6 with 8, current count: 0\n",
      "  Comparing 7 with 8, current count: 0\n",
      "  Comparing 8 with 8, current count: 1\n",
      "  Comparing 8 with 8, current count: 2\n",
      "  Comparing 8 with 8, current count: 3\n",
      "  Comparing 9 with 8, current count: 3\n",
      "  Comparing 10 with 8, current count: 3\n",
      "  New mode found: 8 with count: 3\n",
      "Checking item: 8\n",
      "  Comparing 4 with 8, current count: 0\n",
      "  Comparing 5 with 8, current count: 0\n",
      "  Comparing 6 with 8, current count: 0\n",
      "  Comparing 6 with 8, current count: 0\n",
      "  Comparing 7 with 8, current count: 0\n",
      "  Comparing 8 with 8, current count: 1\n",
      "  Comparing 8 with 8, current count: 2\n",
      "  Comparing 8 with 8, current count: 3\n",
      "  Comparing 9 with 8, current count: 3\n",
      "  Comparing 10 with 8, current count: 3\n",
      "Checking item: 8\n",
      "  Comparing 4 with 8, current count: 0\n",
      "  Comparing 5 with 8, current count: 0\n",
      "  Comparing 6 with 8, current count: 0\n",
      "  Comparing 6 with 8, current count: 0\n",
      "  Comparing 7 with 8, current count: 0\n",
      "  Comparing 8 with 8, current count: 1\n",
      "  Comparing 8 with 8, current count: 2\n",
      "  Comparing 8 with 8, current count: 3\n",
      "  Comparing 9 with 8, current count: 3\n",
      "  Comparing 10 with 8, current count: 3\n",
      "Checking item: 9\n",
      "  Comparing 4 with 9, current count: 0\n",
      "  Comparing 5 with 9, current count: 0\n",
      "  Comparing 6 with 9, current count: 0\n",
      "  Comparing 6 with 9, current count: 0\n",
      "  Comparing 7 with 9, current count: 0\n",
      "  Comparing 8 with 9, current count: 0\n",
      "  Comparing 8 with 9, current count: 0\n",
      "  Comparing 8 with 9, current count: 0\n",
      "  Comparing 9 with 9, current count: 1\n",
      "  Comparing 10 with 9, current count: 1\n",
      "Checking item: 10\n",
      "  Comparing 4 with 10, current count: 0\n",
      "  Comparing 5 with 10, current count: 0\n",
      "  Comparing 6 with 10, current count: 0\n",
      "  Comparing 6 with 10, current count: 0\n",
      "  Comparing 7 with 10, current count: 0\n",
      "  Comparing 8 with 10, current count: 0\n",
      "  Comparing 8 with 10, current count: 0\n",
      "  Comparing 8 with 10, current count: 0\n",
      "  Comparing 9 with 10, current count: 0\n",
      "  Comparing 10 with 10, current count: 1\n",
      "Final Mode: 8\n"
     ]
    }
   ],
   "source": [
    "mode = None\n",
    "max_count = 0\n",
    "\n",
    "# Outer loop to iterate through each item in the data\n",
    "for item in data:\n",
    "    count = 0\n",
    "    print(f\"Checking item: {item}\")  # Debug: Show the current item being checked\n",
    "    \n",
    "    # Inner loop to count occurrences of the current item\n",
    "    for x in data:\n",
    "        if x == item:\n",
    "            count += 1\n",
    "        print(f\"  Comparing {x} with {item}, current count: {count}\")  # Debug: Show comparisons and count\n",
    "\n",
    "    # Update mode if the current item's count is greater than max_count\n",
    "    if count > max_count:\n",
    "        max_count = count\n",
    "        mode = item\n",
    "        print(f\"  New mode found: {mode} with count: {max_count}\")  # Debug: Show when a new mode is found\n",
    "\n",
    "print(\"Final Mode:\", mode)\n"
   ]
  },
  {
   "cell_type": "code",
   "execution_count": null,
   "metadata": {},
   "outputs": [],
   "source": [
    "mode = None\n",
    "max_count = 0\n",
    "\n",
    "for item in data:\n",
    "    count = 0\n",
    "\n",
    "    for x in data:\n",
    "        if "
   ]
  }
 ],
 "metadata": {
  "kernelspec": {
   "display_name": "Python 3",
   "language": "python",
   "name": "python3"
  },
  "language_info": {
   "codemirror_mode": {
    "name": "ipython",
    "version": 3
   },
   "file_extension": ".py",
   "mimetype": "text/x-python",
   "name": "python",
   "nbconvert_exporter": "python",
   "pygments_lexer": "ipython3",
   "version": "3.13.0"
  }
 },
 "nbformat": 4,
 "nbformat_minor": 2
}
